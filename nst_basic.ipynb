{
 "cells": [
  {
   "cell_type": "code",
   "execution_count": 8,
   "metadata": {},
   "outputs": [],
   "source": [
    "import cv2\n",
    "import numpy as np"
   ]
  },
  {
   "cell_type": "markdown",
   "metadata": {},
   "source": [
    "처음부터 순서대로 원하는 모델을 선택할 수 있습니다."
   ]
  },
  {
   "cell_type": "code",
   "execution_count": 30,
   "metadata": {},
   "outputs": [],
   "source": [
    "# net = cv2.dnn.readNetFromTorch('models/eccv16/composition_vii.t7')\n",
    "# net = cv2.dnn.readNetFromTorch('models/eccv16/la_muse.t7')\n",
    "# net = cv2.dnn.readNetFromTorch('models/eccv16/starry_night.t7')\n",
    "# net = cv2.dnn.readNetFromTorch('models/eccv16/the_wave.t7')\n",
    "# net = cv2.dnn.readNetFromTorch('models/instance_norm/candy.t7')\n",
    "# net = cv2.dnn.readNetFromTorch('models/instance_norm/feathers.t7')\n",
    "# net = cv2.dnn.readNetFromTorch('models/instance_norm/la_muse.t7')\n",
    "# net = cv2.dnn.readNetFromTorch('models/instance_norm/mosaic.t7')\n",
    "# net = cv2.dnn.readNetFromTorch('models/instance_norm/starry_night.t7')\n",
    "# net = cv2.dnn.readNetFromTorch('models/instance_norm/the_scream.t7')\n",
    "net = cv2.dnn.readNetFromTorch('models/instance_norm/udnie.t7')\n"
   ]
  },
  {
   "cell_type": "markdown",
   "metadata": {},
   "source": [
    "이미지 불러오고 윈도우에 띄우기"
   ]
  },
  {
   "cell_type": "code",
   "execution_count": 31,
   "metadata": {},
   "outputs": [],
   "source": [
    "img = cv2.imread('imgs/02.jpg')"
   ]
  },
  {
   "cell_type": "markdown",
   "metadata": {},
   "source": [
    "img.shape으로는 이미지의 높이 너비 채널을 받을 수 있다\n",
    "dsize = ( 가로 , 세로 )"
   ]
  },
  {
   "cell_type": "markdown",
   "metadata": {},
   "source": [
    "딥러닝 모델에 넣기 위한 이미지 데이터 차원 변형"
   ]
  },
  {
   "cell_type": "code",
   "execution_count": 32,
   "metadata": {},
   "outputs": [],
   "source": [
    "h, w, c = img.shape\n",
    "\n",
    "img = cv2.resize(img, dsize=(500, int(h / w * 500)))\n",
    "\n",
    "img = img[162:513, 185:428]\n",
    "\n",
    "MEAN_VALUE = [103.939, 116.779, 123.680]\n",
    "blob = cv2.dnn.blobFromImage(img, mean=MEAN_VALUE)"
   ]
  },
  {
   "cell_type": "markdown",
   "metadata": {},
   "source": [
    "차원 줄이기\n",
    "차원 변형했던 것을 원래대로 (높이, 너비, 채널) 순으로 되돌려놓습니다. squeeze() 를 사용하여 추가했던 첫 번째 차원을 삭제합니다. (1, 채널, 높이, 너비)에서 (1, ) 부분을 없애고 (채널, 높이, 너비) 형태로 만듭니다.\n",
    "\n",
    "순서 바꾸기  `transpose()`를 사용하여 (채널, 높이, 너비) → (높이, 너비, 채널) 형태로 변형합니다."
   ]
  },
  {
   "cell_type": "code",
   "execution_count": 33,
   "metadata": {},
   "outputs": [
    {
     "name": "stdout",
     "output_type": "stream",
     "text": [
      "(1, 3, 351, 243)\n"
     ]
    }
   ],
   "source": [
    "print(blob.shape)\n",
    "net.setInput(blob)\n",
    "output = net.forward()\n",
    "\n",
    "output = output.squeeze().transpose((1, 2, 0))\n",
    "output += MEAN_VALUE\n",
    "\n",
    "output = np.clip(output, 0, 255)\n",
    "output = output.astype('uint8')"
   ]
  },
  {
   "cell_type": "code",
   "execution_count": 34,
   "metadata": {},
   "outputs": [
    {
     "data": {
      "text/plain": [
       "-1"
      ]
     },
     "execution_count": 34,
     "metadata": {},
     "output_type": "execute_result"
    }
   ],
   "source": [
    "cv2.imshow('img', img)\n",
    "cv2.imshow('result', output)\n",
    "cv2.waitKey(0)"
   ]
  }
 ],
 "metadata": {
  "interpreter": {
   "hash": "be1bc6b27878dd48efe89658e03820d562518ab54646073311374363046a1e53"
  },
  "kernelspec": {
   "display_name": "Python 3.8.12 ('sparta_project')",
   "language": "python",
   "name": "python3"
  },
  "language_info": {
   "codemirror_mode": {
    "name": "ipython",
    "version": 3
   },
   "file_extension": ".py",
   "mimetype": "text/x-python",
   "name": "python",
   "nbconvert_exporter": "python",
   "pygments_lexer": "ipython3",
   "version": "3.8.12"
  },
  "orig_nbformat": 4
 },
 "nbformat": 4,
 "nbformat_minor": 2
}
