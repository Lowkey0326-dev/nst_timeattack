{
 "cells": [
  {
   "cell_type": "code",
   "execution_count": 8,
   "metadata": {},
   "outputs": [],
   "source": [
    "import cv2\n",
    "import numpy as np\n",
    "\n",
    "net = cv2.dnn.readNetFromTorch('models/instance_norm/mosaic.t7')\n",
    "\n",
    "img = cv2.imread('imgs/02.jpg')\n",
    "\n",
    "h, w, c = img.shape\n",
    "\n",
    "img = cv2.resize(img, dsize=(500, int(h / w * 500)))\n",
    "\n",
    "MEAN_VALUE = [103.939, 116.779, 123.680]\n",
    "blob = cv2.dnn.blobFromImage(img, mean=MEAN_VALUE)\n",
    "\n",
    "net.setInput(blob)\n",
    "output = net.forward()\n",
    "\n",
    "output = output.squeeze().transpose((1, 2, 0))\n",
    "\n",
    "output += MEAN_VALUE\n",
    "output = np.clip(output, 0, 255)\n",
    "output = output.astype('uint8')"
   ]
  },
  {
   "cell_type": "code",
   "execution_count": 9,
   "metadata": {},
   "outputs": [],
   "source": [
    "net2 = cv2.dnn.readNetFromTorch('models/instance_norm/the_scream.t7')\n",
    "\n",
    "net2.setInput(blob)\n",
    "output2 = net2.forward()\n",
    "\n",
    "output2 = output2.squeeze().transpose((1, 2, 0))\n",
    "output2 = output2 + MEAN_VALUE\n",
    "\n",
    "output2 = np.clip(output2, 0, 255)\n",
    "output2 = output2.astype('uint8')"
   ]
  },
  {
   "cell_type": "code",
   "execution_count": 10,
   "metadata": {},
   "outputs": [
    {
     "ename": "KeyboardInterrupt",
     "evalue": "",
     "output_type": "error",
     "traceback": [
      "\u001b[1;31m---------------------------------------------------------------------------\u001b[0m",
      "\u001b[1;31mKeyboardInterrupt\u001b[0m                         Traceback (most recent call last)",
      "\u001b[1;32mC:\\Users\\ADMINI~1\\AppData\\Local\\Temp/ipykernel_23136/2206248553.py\u001b[0m in \u001b[0;36m<module>\u001b[1;34m\u001b[0m\n\u001b[0;32m      2\u001b[0m \u001b[1;33m\u001b[0m\u001b[0m\n\u001b[0;32m      3\u001b[0m \u001b[0mcv2\u001b[0m\u001b[1;33m.\u001b[0m\u001b[0mimshow\u001b[0m\u001b[1;33m(\u001b[0m\u001b[1;34m'output3'\u001b[0m\u001b[1;33m,\u001b[0m \u001b[0moutput3\u001b[0m\u001b[1;33m)\u001b[0m\u001b[1;33m\u001b[0m\u001b[1;33m\u001b[0m\u001b[0m\n\u001b[1;32m----> 4\u001b[1;33m \u001b[0mcv2\u001b[0m\u001b[1;33m.\u001b[0m\u001b[0mwaitKey\u001b[0m\u001b[1;33m(\u001b[0m\u001b[1;36m0\u001b[0m\u001b[1;33m)\u001b[0m\u001b[1;33m\u001b[0m\u001b[1;33m\u001b[0m\u001b[0m\n\u001b[0m",
      "\u001b[1;31mKeyboardInterrupt\u001b[0m: "
     ]
    }
   ],
   "source": [
    "\n",
    "output3 = np.concatenate([output[:, :250], output2[:, 250:]], axis=1)\n",
    "\n",
    "cv2.imshow('output3', output3)\n",
    "cv2.waitKey(0)"
   ]
  }
 ],
 "metadata": {
  "interpreter": {
   "hash": "be1bc6b27878dd48efe89658e03820d562518ab54646073311374363046a1e53"
  },
  "kernelspec": {
   "display_name": "Python 3.8.12 ('sparta_project')",
   "language": "python",
   "name": "python3"
  },
  "language_info": {
   "codemirror_mode": {
    "name": "ipython",
    "version": 3
   },
   "file_extension": ".py",
   "mimetype": "text/x-python",
   "name": "python",
   "nbconvert_exporter": "python",
   "pygments_lexer": "ipython3",
   "version": "3.8.12"
  },
  "orig_nbformat": 4
 },
 "nbformat": 4,
 "nbformat_minor": 2
}
