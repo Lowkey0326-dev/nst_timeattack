{
 "cells": [
  {
   "cell_type": "code",
   "execution_count": 1,
   "metadata": {},
   "outputs": [],
   "source": [
    "import cv2\n",
    "import numpy as np\n",
    "\n",
    "cap = cv2.VideoCapture('videos/03.mp4')\n",
    "net = cv2.dnn.readNetFromTorch('models/instance_norm/mosaic.t7')\n",
    "net2 = cv2.dnn.readNetFromTorch('models/instance_norm/the_scream.t7')\n",
    "\n",
    "while True:\n",
    "\n",
    "    ret, img = cap.read()\n",
    "\n",
    "    if ret == False:\n",
    "        break\n",
    "\n",
    "    h, w, c = img.shape\n",
    "\n",
    "    img = cv2.resize(img, dsize=(500, int(h / w * 500)))\n",
    "\n",
    "    MEAN_VALUE = [103.939, 116.779, 123.680]\n",
    "    blob = cv2.dnn.blobFromImage(img, mean=MEAN_VALUE)\n",
    "\n",
    "    net.setInput(blob)\n",
    "    output = net.forward()\n",
    "\n",
    "    output = output.squeeze().transpose((1, 2, 0))\n",
    "\n",
    "    output += MEAN_VALUE\n",
    "    output = np.clip(output, 0, 255)\n",
    "    output = output.astype('uint8')\n",
    "\n",
    "    net2.setInput(blob)\n",
    "    output2 = net2.forward()\n",
    "\n",
    "    output2 = output2.squeeze().transpose((1, 2, 0))\n",
    "    output2 = output2 + MEAN_VALUE\n",
    "\n",
    "    output2 = np.clip(output2, 0, 255)\n",
    "    output2 = output2.astype('uint8')\n",
    "\n",
    "    h_int = int((h / w * 500)/2)\n",
    "\n",
    "    output3 = np.concatenate([output[:h_int, :], output2[h_int:, :]], axis=0)\n",
    "\n",
    "    cv2.imshow('output3', output3)\n",
    "\n",
    "    cv2.imshow('output3', output3)\n",
    "\n",
    "    if cv2.waitKey(1) == ord('q'):\n",
    "        break\n"
   ]
  }
 ],
 "metadata": {
  "interpreter": {
   "hash": "be1bc6b27878dd48efe89658e03820d562518ab54646073311374363046a1e53"
  },
  "kernelspec": {
   "display_name": "Python 3.8.12 ('sparta_project')",
   "language": "python",
   "name": "python3"
  },
  "language_info": {
   "codemirror_mode": {
    "name": "ipython",
    "version": 3
   },
   "file_extension": ".py",
   "mimetype": "text/x-python",
   "name": "python",
   "nbconvert_exporter": "python",
   "pygments_lexer": "ipython3",
   "version": "3.8.12"
  },
  "orig_nbformat": 4
 },
 "nbformat": 4,
 "nbformat_minor": 2
}
