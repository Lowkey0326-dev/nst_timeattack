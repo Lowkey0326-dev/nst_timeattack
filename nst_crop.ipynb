{
 "cells": [
  {
   "cell_type": "code",
   "execution_count": 66,
   "metadata": {},
   "outputs": [],
   "source": [
    "import cv2\n",
    "import numpy as np\n",
    "\n",
    "net1 = cv2.dnn.readNetFromTorch('models/instance_norm/mosaic.t7')\n",
    "net2 = cv2.dnn.readNetFromTorch('models/instance_norm/the_scream.t7')\n",
    "\n",
    "img = cv2.imread('imgs/hw.jpg')\n",
    "\n",
    "cropped_img = img[140:370, 480:810]\n",
    "\n",
    "h, w, c = cropped_img.shape\n",
    "\n",
    "\n",
    "cropped_img = cv2.resize(cropped_img, dsize=(500, int(h / w * 500)))\n",
    "\n",
    "\n",
    "MEAN_VALUE = [103.939, 116.779, 123.680]\n",
    "\n",
    "\n",
    "# 밑에 (첫번째인수,)에 잘라 넣을 이미지의 변수를 넣어주면 된다\n",
    "blob = cv2.dnn.blobFromImage(cropped_img, mean=MEAN_VALUE)\n",
    "\n",
    "# net_select의 변수를 조절함으로써 어떤 모델을 사용할지 결정\n",
    "cropped_img_net_select = net2\n",
    "\n",
    "\n",
    "cropped_img_net_select.setInput(blob)\n",
    "output = cropped_img_net_select.forward()\n",
    "\n",
    "output = output.squeeze().transpose((1, 2, 0))\n",
    "\n",
    "output += MEAN_VALUE\n",
    "output = np.clip(output, 0, 255)\n",
    "output = output.astype('uint8')\n",
    "\n",
    "output = cv2.resize(output, (w, h))\n",
    "\n",
    "img[140:370, 480:810] = output"
   ]
  },
  {
   "cell_type": "code",
   "execution_count": 68,
   "metadata": {},
   "outputs": [
    {
     "data": {
      "text/plain": [
       "-1"
      ]
     },
     "execution_count": 68,
     "metadata": {},
     "output_type": "execute_result"
    }
   ],
   "source": [
    "# cv2.imshow('output', output)\n",
    "cv2.imshow('img', img)\n",
    "cv2.waitKey(0)"
   ]
  }
 ],
 "metadata": {
  "interpreter": {
   "hash": "be1bc6b27878dd48efe89658e03820d562518ab54646073311374363046a1e53"
  },
  "kernelspec": {
   "display_name": "Python 3.8.12 ('sparta_project')",
   "language": "python",
   "name": "python3"
  },
  "language_info": {
   "codemirror_mode": {
    "name": "ipython",
    "version": 3
   },
   "file_extension": ".py",
   "mimetype": "text/x-python",
   "name": "python",
   "nbconvert_exporter": "python",
   "pygments_lexer": "ipython3",
   "version": "3.8.12"
  },
  "orig_nbformat": 4
 },
 "nbformat": 4,
 "nbformat_minor": 2
}
